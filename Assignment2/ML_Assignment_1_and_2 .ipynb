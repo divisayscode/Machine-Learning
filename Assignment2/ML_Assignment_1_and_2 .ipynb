{
  "nbformat": 4,
  "nbformat_minor": 0,
  "metadata": {
    "colab": {
      "provenance": []
    },
    "kernelspec": {
      "name": "python3",
      "display_name": "Python 3"
    },
    "language_info": {
      "name": "python"
    }
  },
  "cells": [
    {
      "cell_type": "code",
      "execution_count": 1,
      "metadata": {
        "id": "7T5SEPUSIHst"
      },
      "outputs": [],
      "source": [
        "import numpy as np"
      ]
    },
    {
      "cell_type": "code",
      "source": [
        "arr = np.array([1, 2, 3, 6, 4, 5])\n",
        "print(\"Original:\", arr)\n",
        "print(\"Reversed:\", arr[::-1])"
      ],
      "metadata": {
        "colab": {
          "base_uri": "https://localhost:8080/"
        },
        "id": "xvSWfbJHISRp",
        "outputId": "d8be5e5b-1ec7-44d2-841e-946a4eed8508"
      },
      "execution_count": 2,
      "outputs": [
        {
          "output_type": "stream",
          "name": "stdout",
          "text": [
            "Original: [1 2 3 6 4 5]\n",
            "Reversed: [5 4 6 3 2 1]\n"
          ]
        }
      ]
    },
    {
      "cell_type": "code",
      "source": [
        "array1 = np.array([[1, 2, 3], [2, 4, 5], [1, 2, 3]])\n",
        "\n",
        "# flatten()\n",
        "print(\"Flatten (method 1):\", array1.flatten())\n",
        "\n",
        "# ravel()\n",
        "print(\"Flatten (method 2):\", array1.ravel())"
      ],
      "metadata": {
        "colab": {
          "base_uri": "https://localhost:8080/"
        },
        "id": "a7wHTxeNIZE0",
        "outputId": "2367181e-f200-4731-e72f-e4f7d3810fcc"
      },
      "execution_count": 3,
      "outputs": [
        {
          "output_type": "stream",
          "name": "stdout",
          "text": [
            "Flatten (method 1): [1 2 3 2 4 5 1 2 3]\n",
            "Flatten (method 2): [1 2 3 2 4 5 1 2 3]\n"
          ]
        }
      ]
    },
    {
      "cell_type": "code",
      "source": [
        "arr1 = np.array([[1, 2], [3, 4]])\n",
        "arr2 = np.array([[1, 2], [3, 4]])\n",
        "\n",
        "print( np.array_equal(arr1, arr2))"
      ],
      "metadata": {
        "colab": {
          "base_uri": "https://localhost:8080/"
        },
        "id": "sVvNw-MWIfRT",
        "outputId": "ed1a2589-8737-4a75-ce3e-034faa2b271c"
      },
      "execution_count": 5,
      "outputs": [
        {
          "output_type": "stream",
          "name": "stdout",
          "text": [
            "True\n"
          ]
        }
      ]
    },
    {
      "cell_type": "code",
      "source": [
        "x = np.array([1,2,3,4,5,1,2,1,1,1])\n",
        "y = np.array([1, 1, 1, 2, 3, 4, 2, 4, 3, 3])\n",
        "\n",
        "def most_frequent(arr):\n",
        "    values, counts = np.unique(arr, return_counts=True)\n",
        "    max_count = counts.max()\n",
        "    most_freq = values[counts == max_count]\n",
        "    indices = np.where(np.isin(arr, most_freq))[0]\n",
        "    return most_freq, indices\n",
        "\n",
        "print(\"x\", most_frequent(x))\n",
        "print(\"y\", most_frequent(y))"
      ],
      "metadata": {
        "colab": {
          "base_uri": "https://localhost:8080/"
        },
        "id": "2Ur9_4foI0Kh",
        "outputId": "9cb82e47-d8c4-4475-8076-21191a1b478e"
      },
      "execution_count": 7,
      "outputs": [
        {
          "output_type": "stream",
          "name": "stdout",
          "text": [
            "x (array([1]), array([0, 5, 7, 8, 9]))\n",
            "y (array([1, 3]), array([0, 1, 2, 4, 8, 9]))\n"
          ]
        }
      ]
    },
    {
      "cell_type": "code",
      "source": [
        "m = np.matrix('[4, 1, 9; 12, 3, 1; 4, 5, 6]')\n",
        "print(\"Sum of all elements:\", m.sum())\n",
        "print(\"Row-wise sum:\", m.sum(axis=1))\n",
        "print(\"Column-wise sum:\", m.sum(axis=0))"
      ],
      "metadata": {
        "colab": {
          "base_uri": "https://localhost:8080/"
        },
        "id": "5zcUqcPoJhYv",
        "outputId": "fa7beea1-1ffa-408f-e2cd-729e5813c6b1"
      },
      "execution_count": 11,
      "outputs": [
        {
          "output_type": "stream",
          "name": "stdout",
          "text": [
            "Sum of all elements: 45\n",
            "Row-wise sum: [[14]\n",
            " [16]\n",
            " [15]]\n",
            "Column-wise sum: [[20  9 16]]\n"
          ]
        }
      ]
    },
    {
      "cell_type": "code",
      "source": [
        "n_array = np.array([[55, 25, 15],[30, 44, 2],[11, 45, 77]])\n",
        "\n",
        "# i. Diagonal sum\n",
        "print(\"Diagonal sum:\", np.trace(n_array))\n",
        "# ii & iii. Eigenvalues, Eigenvectors\n",
        "eigvals, eigvecs = np.linalg.eig(n_array)\n",
        "print(\"Eigenvalues:\", eigvals)\n",
        "print(\"Eigenvectors:\\n\", eigvecs)\n",
        "# iv. Inverse\n",
        "print(\"Inverse:\\n\", np.linalg.inv(n_array))\n",
        "# v. Determinant\n",
        "print(\"Determinant:\", np.linalg.det(n_array))"
      ],
      "metadata": {
        "colab": {
          "base_uri": "https://localhost:8080/"
        },
        "id": "uo_ss07aJoFJ",
        "outputId": "0633f134-995d-4462-d977-5830b8732689"
      },
      "execution_count": 10,
      "outputs": [
        {
          "output_type": "stream",
          "name": "stdout",
          "text": [
            "Diagonal sum: 176\n",
            "Eigenvalues: [98.16835147 28.097044   49.73460452]\n",
            "Eigenvectors:\n",
            " [[ 0.4574917   0.34637121 -0.15017693]\n",
            " [ 0.28447814 -0.72784061 -0.4852124 ]\n",
            " [ 0.84248058  0.59184038  0.8614034 ]]\n",
            "Inverse:\n",
            " [[ 0.02404141 -0.00911212 -0.00444671]\n",
            " [-0.01667882  0.02966905  0.0024785 ]\n",
            " [ 0.00631287 -0.01603732  0.01217379]]\n",
            "Determinant: 137180.0000000001\n"
          ]
        }
      ]
    },
    {
      "cell_type": "code",
      "source": [
        "import numpy as np\n",
        "p1 = np.array([[1, 2], [2, 3]])\n",
        "q1 = np.array([[4, 5], [6, 7]])\n",
        "print(\"Multiplication 1:\\n\", np.dot(p1, q1))\n",
        "print(\"Covariance 1:\\n\", np.cov(np.hstack((p1, q1)).T))\n",
        "p2 = np.array([[1, 2], [2, 3], [4, 5]])\n",
        "q2 = np.array([[4, 5, 1], [6, 7, 2]])\n",
        "print(\"Multiplication 2:\\n\", np.dot(p2, q2))\n",
        "print(\"Covariance 2:\\n\", np.cov(np.hstack((p2, q2.T)).T))\n"
      ],
      "metadata": {
        "colab": {
          "base_uri": "https://localhost:8080/"
        },
        "id": "vfTM4-MLJ1if",
        "outputId": "ccdb116b-d627-4322-a83b-f6543d84852e"
      },
      "execution_count": 26,
      "outputs": [
        {
          "output_type": "stream",
          "name": "stdout",
          "text": [
            "Multiplication 1:\n",
            " [[16 19]\n",
            " [26 31]]\n",
            "Covariance 1:\n",
            " [[0.5 0.5 1.  1. ]\n",
            " [0.5 0.5 1.  1. ]\n",
            " [1.  1.  2.  2. ]\n",
            " [1.  1.  2.  2. ]]\n",
            "Multiplication 2:\n",
            " [[16 19  5]\n",
            " [26 31  8]\n",
            " [46 55 14]]\n",
            "Covariance 2:\n",
            " [[ 2.33333333  2.33333333 -2.66666667 -3.5       ]\n",
            " [ 2.33333333  2.33333333 -2.66666667 -3.5       ]\n",
            " [-2.66666667 -2.66666667  4.33333333  5.5       ]\n",
            " [-3.5        -3.5         5.5         7.        ]]\n"
          ]
        }
      ]
    },
    {
      "cell_type": "code",
      "source": [
        "x = np.array([[2, 3, 4], [3, 2, 9]])\n",
        "y = np.array([[1, 5, 0], [5, 10, 3]])\n",
        "print(\"Inner product:\\n\", np.inner(x, y))\n",
        "print(\"Outer product:\\n\", np.outer(x, y))\n",
        "print(\"Cartesian product:\\n\", np.tensordot(x, y, axes=0))"
      ],
      "metadata": {
        "colab": {
          "base_uri": "https://localhost:8080/"
        },
        "id": "DhT-76G-KC_0",
        "outputId": "c212ad8e-36c8-4892-eebb-280e04ba977b"
      },
      "execution_count": 15,
      "outputs": [
        {
          "output_type": "stream",
          "name": "stdout",
          "text": [
            "Inner product:\n",
            " [[17 52]\n",
            " [13 62]]\n",
            "Outer product:\n",
            " [[ 2 10  0 10 20  6]\n",
            " [ 3 15  0 15 30  9]\n",
            " [ 4 20  0 20 40 12]\n",
            " [ 3 15  0 15 30  9]\n",
            " [ 2 10  0 10 20  6]\n",
            " [ 9 45  0 45 90 27]]\n",
            "Cartesian product:\n",
            " [[[[ 2 10  0]\n",
            "   [10 20  6]]\n",
            "\n",
            "  [[ 3 15  0]\n",
            "   [15 30  9]]\n",
            "\n",
            "  [[ 4 20  0]\n",
            "   [20 40 12]]]\n",
            "\n",
            "\n",
            " [[[ 3 15  0]\n",
            "   [15 30  9]]\n",
            "\n",
            "  [[ 2 10  0]\n",
            "   [10 20  6]]\n",
            "\n",
            "  [[ 9 45  0]\n",
            "   [45 90 27]]]]\n"
          ]
        }
      ]
    },
    {
      "cell_type": "code",
      "source": [
        "array = np.array([[1, -2, 3],[-4, 5, -6]])\n",
        "# i. Absolute\n",
        "print(\"Absolute:\\n\", np.abs(array))\n",
        "# ii. Percentiles\n",
        "print(\"25th, 50th, 75th (flattened):\", np.percentile(array, [25,50,75]))\n",
        "print(\"Column-wise:\\n\", np.percentile(array, [25,50,75], axis=0))\n",
        "print(\"Row-wise:\\n\", np.percentile(array, [25,50,75], axis=1))\n",
        "# iii. Mean, Median, Std\n",
        "print(\"Flattened -> Mean:\", np.mean(array), \"Median:\", np.median(array), \"Std:\", np.std(array))\n",
        "print(\"Column-wise -> Mean:\", np.mean(array, axis=0))\n",
        "print(\"Row-wise -> Mean:\", np.mean(array, axis=1))\n"
      ],
      "metadata": {
        "colab": {
          "base_uri": "https://localhost:8080/"
        },
        "id": "CJkfeXiLKLLy",
        "outputId": "f3984293-9557-4525-fb5f-d8aa57989f9b"
      },
      "execution_count": 16,
      "outputs": [
        {
          "output_type": "stream",
          "name": "stdout",
          "text": [
            "Absolute:\n",
            " [[1 2 3]\n",
            " [4 5 6]]\n",
            "25th, 50th, 75th (flattened): [-3.5 -0.5  2.5]\n",
            "Column-wise:\n",
            " [[-2.75 -0.25 -3.75]\n",
            " [-1.5   1.5  -1.5 ]\n",
            " [-0.25  3.25  0.75]]\n",
            "Row-wise:\n",
            " [[-0.5 -5. ]\n",
            " [ 1.  -4. ]\n",
            " [ 2.   0.5]]\n",
            "Flattened -> Mean: -0.5 Median: -0.5 Std: 3.8622100754188224\n",
            "Column-wise -> Mean: [-1.5  1.5 -1.5]\n",
            "Row-wise -> Mean: [ 0.66666667 -1.66666667]\n"
          ]
        }
      ]
    },
    {
      "cell_type": "code",
      "source": [
        "a = np.array([-1.8, -1.6, -0.5, 0.5, 1.6, 1.8, 3.0])\n",
        "print(\"Floor:\", np.floor(a))\n",
        "print(\"Ceil:\", np.ceil(a))\n",
        "print(\"Trunc:\", np.trunc(a))\n",
        "print(\"Round:\", np.round(a))\n"
      ],
      "metadata": {
        "colab": {
          "base_uri": "https://localhost:8080/"
        },
        "id": "QY-jDxa1Kz5e",
        "outputId": "c54539c1-8ff5-4b6b-f6b1-69ed3edc3b24"
      },
      "execution_count": 17,
      "outputs": [
        {
          "output_type": "stream",
          "name": "stdout",
          "text": [
            "Floor: [-2. -2. -1.  0.  1.  1.  3.]\n",
            "Ceil: [-1. -1. -0.  1.  2.  2.  3.]\n",
            "Trunc: [-1. -1. -0.  0.  1.  1.  3.]\n",
            "Round: [-2. -2. -0.  0.  2.  2.  3.]\n"
          ]
        }
      ]
    },
    {
      "cell_type": "code",
      "source": [
        "array = np.array([10, 52, 62, 16, 16, 54, 453])\n",
        "print(\"Sorted array:\", np.sort(array))\n",
        "print(\"Indices of sorted array:\", np.argsort(array))\n",
        "print(\"4 smallest:\", np.sort(array)[:4])\n",
        "print(\"5 largest:\", np.sort(array)[-5:])\n"
      ],
      "metadata": {
        "colab": {
          "base_uri": "https://localhost:8080/"
        },
        "id": "Lb1aw4_bK22R",
        "outputId": "6f351426-f9a1-4b1b-b5c3-704343d3891e"
      },
      "execution_count": 19,
      "outputs": [
        {
          "output_type": "stream",
          "name": "stdout",
          "text": [
            "Sorted array: [ 10  16  16  52  54  62 453]\n",
            "Indices of sorted array: [0 3 4 1 5 2 6]\n",
            "4 smallest: [10 16 16 52]\n",
            "5 largest: [ 16  52  54  62 453]\n"
          ]
        }
      ]
    },
    {
      "cell_type": "code",
      "source": [
        "array = np.array([1.0, 1.2, 2.2, 2.0, 3.0, 2.0])\n",
        "integers = array[array == array.astype(int)]\n",
        "floats = array[array != array.astype(int)]\n",
        "print(\"Integer elements:\", integers)\n",
        "print(\"Float elements:\", floats)\n"
      ],
      "metadata": {
        "colab": {
          "base_uri": "https://localhost:8080/"
        },
        "id": "CPYaCwOxLGW-",
        "outputId": "8390d9de-5995-4012-f763-9a6e4507efd1"
      },
      "execution_count": 20,
      "outputs": [
        {
          "output_type": "stream",
          "name": "stdout",
          "text": [
            "Integer elements: [1. 2. 3. 2.]\n",
            "Float elements: [1.2 2.2]\n"
          ]
        }
      ]
    },
    {
      "cell_type": "code",
      "source": [
        "import numpy as np\n",
        "from PIL import Image\n",
        "path = \"/content/RGB.jpg\"\n",
        "def img_to_array(path):\n",
        "    img = Image.open(path)\n",
        "    arr = np.array(img)\n",
        "    if len(arr.shape) == 2:\n",
        "        print(\"Grayscale image detected.\")\n",
        "        np.savetxt(\"image_array.txt\", arr, fmt='%d')\n",
        "    else:   # RGB\n",
        "        print(\"RGB image detected.\")\n",
        "        np.savetxt(\"image_array.txt\", arr.reshape(-1, arr.shape[-1]), fmt='%d')\n",
        "    print(\"Image saved as text file.\")\n",
        "img_to_array(path)\n",
        "loaded = np.loadtxt(\"image_array.txt\", dtype=int)\n",
        "print(\"Loaded array:\\n\", loaded)\n"
      ],
      "metadata": {
        "colab": {
          "base_uri": "https://localhost:8080/"
        },
        "id": "jg60P4BPLgDl",
        "outputId": "4bf09ee2-3236-4dd4-9d0f-aa349b18d5ae"
      },
      "execution_count": 25,
      "outputs": [
        {
          "output_type": "stream",
          "name": "stdout",
          "text": [
            "RGB image detected.\n",
            "Image saved as text file.\n",
            "Loaded array:\n",
            " [[241 187   1]\n",
            " [244 190   4]\n",
            " [255 207  24]\n",
            " ...\n",
            " [  5   3  40]\n",
            " [  5   3  40]\n",
            " [  5   3  40]]\n"
          ]
        }
      ]
    },
    {
      "cell_type": "markdown",
      "source": [
        "ASSIGNMENT 2\n"
      ],
      "metadata": {
        "id": "bYSYmDW3PXw1"
      }
    },
    {
      "cell_type": "markdown",
      "source": [
        "a) The customer dataset contains several attributes, but not all are relevant for predicting whether a person will be a potential bike buyer. Attributes such as CustomerID, FirstName, LastName, AddressLine1, AddressLine2, PhoneNumber, and LastUpdated are identifiers or administrative details that do not contribute meaningful patterns for prediction and can therefore be removed.\n",
        "Features selected are -- BirthDate, Education, Occupation, Gender, MaritalStatus, HomeOwnerFlag, NumberCarsOwned, NumberChildrenAtHome, TotalChildren, YearlyIncome, StateProvinceName, CountryRegionName"
      ],
      "metadata": {
        "id": "f_yqohHtTL7y"
      }
    },
    {
      "cell_type": "code",
      "source": [
        "import pandas as pd\n",
        "df = pd.read_csv(\"AWCustomers.csv\")\n",
        "selected_columns = [\n",
        "\"BirthDate\", \"Education\", \"Occupation\", \"Gender\", \"MaritalStatus\",\n",
        "    \"HomeOwnerFlag\", \"NumberCarsOwned\", \"NumberChildrenAtHome\",\n",
        "    \"TotalChildren\", \"YearlyIncome\"\n",
        "]\n",
        "\n",
        "df_selected = df[selected_columns]\n",
        "\n",
        "print(df_selected.head())"
      ],
      "metadata": {
        "colab": {
          "base_uri": "https://localhost:8080/"
        },
        "id": "QYHCM-k2PavG",
        "outputId": "bd5a9312-cf84-466c-8967-1265889b80ec"
      },
      "execution_count": 29,
      "outputs": [
        {
          "output_type": "stream",
          "name": "stdout",
          "text": [
            "    BirthDate        Education      Occupation Gender MaritalStatus  \\\n",
            "0  1987-11-13        Bachelors        Clerical      M             M   \n",
            "1  1972-07-21  Partial College        Clerical      M             M   \n",
            "2  1985-11-09        Bachelors        Clerical      F             S   \n",
            "3  1977-10-18  Partial College  Skilled Manual      M             M   \n",
            "4  1975-02-05  Partial College  Skilled Manual      M             S   \n",
            "\n",
            "   HomeOwnerFlag  NumberCarsOwned  NumberChildrenAtHome  TotalChildren  \\\n",
            "0              1                3                     0              1   \n",
            "1              1                2                     1              2   \n",
            "2              0                3                     0              0   \n",
            "3              1                2                     1              2   \n",
            "4              1                1                     0              0   \n",
            "\n",
            "   YearlyIncome  \n",
            "0         81916  \n",
            "1         81076  \n",
            "2         86387  \n",
            "3         61481  \n",
            "4         51804  \n"
          ]
        }
      ]
    },
    {
      "cell_type": "code",
      "source": [
        "import pandas as pd\n",
        "import numpy as np\n",
        "from sklearn.preprocessing import MinMaxScaler, StandardScaler, OneHotEncoder\n",
        "from sklearn.impute import SimpleImputer\n",
        "from sklearn.preprocessing import KBinsDiscretizer\n",
        "customers = pd.read_csv(\"AWCustomers.csv\")\n",
        "sales = pd.read_csv(\"AWSales.csv\")\n",
        "df = sales.merge(customers, on=\"CustomerID\", how=\"left\")\n",
        "print(\"Original shape:\", df.shape)\n",
        "num_imputer = SimpleImputer(strategy='median')\n",
        "cat_imputer = SimpleImputer(strategy='most_frequent')\n",
        "numeric_cols = df.select_dtypes(include=[np.number]).columns\n",
        "categorical_cols = df.select_dtypes(exclude=[np.number]).columns\n",
        "df[numeric_cols] = num_imputer.fit_transform(df[numeric_cols])\n",
        "df[categorical_cols] = cat_imputer.fit_transform(df[categorical_cols])\n",
        "scaler = MinMaxScaler()\n",
        "df_normalized = df.copy()\n",
        "df_normalized[numeric_cols] = scaler.fit_transform(df[numeric_cols])\n",
        "bin_cols = [\"YearlyIncome\", \"SalesAmount\"]\n",
        "for col in bin_cols:\n",
        "    if col in df.columns:\n",
        "        kb = KBinsDiscretizer(n_bins=5, encode='ordinal', strategy='quantile')\n",
        "        df_normalized[col + \"_binned\"] = kb.fit_transform(df[[col]])\n",
        "std_scaler = StandardScaler()\n",
        "df_standardized = df.copy()\n",
        "df_standardized[numeric_cols] = std_scaler.fit_transform(df[numeric_cols])\n",
        "encoder = OneHotEncoder(sparse_output=False, handle_unknown=\"ignore\", max_categories=20, drop=\"first\")\n",
        "encoded = encoder.fit_transform(df[categorical_cols])\n",
        "encoded_df = pd.DataFrame(encoded, columns=encoder.get_feature_names_out(categorical_cols))\n",
        "df_encoded = pd.concat([df[numeric_cols].reset_index(drop=True), encoded_df.reset_index(drop=True)], axis=1)\n",
        "print(\"Normalized shape:\", df_normalized.shape)\n",
        "print(\"Standardized shape:\", df_standardized.shape)\n",
        "print(\"One-hot encoded shape:\", df_encoded.shape)"
      ],
      "metadata": {
        "colab": {
          "base_uri": "https://localhost:8080/"
        },
        "id": "ZxXRymUiUqN3",
        "outputId": "fdfee339-3bab-4c74-f7c5-993fcd78e28c"
      },
      "execution_count": 32,
      "outputs": [
        {
          "output_type": "stream",
          "name": "stdout",
          "text": [
            "Original shape: (18361, 26)\n",
            "Normalized shape: (18361, 27)\n",
            "Standardized shape: (18361, 26)\n",
            "One-hot encoded shape: (18361, 218)\n"
          ]
        }
      ]
    },
    {
      "cell_type": "code",
      "source": [
        "import numpy as np\n",
        "from sklearn.metrics.pairwise import cosine_similarity\n",
        "obj1 = df_encoded.iloc[0].values\n",
        "obj2 = df_encoded.iloc[1].values\n",
        "def simple_matching(x, y):\n",
        "    return np.sum(x == y) / len(x)\n",
        "\n",
        "def jaccard_similarity(x, y):\n",
        "    intersection = np.sum((x == 1) & (y == 1))\n",
        "    union = np.sum((x == 1) | (y == 1))\n",
        "    return intersection / union if union != 0 else 0\n",
        "cosine_sim = cosine_similarity([obj1], [obj2])[0][0]\n",
        "print(\"Simple Matching:\", simple_matching(obj1, obj2))\n",
        "print(\"Jaccard Similarity:\", jaccard_similarity(obj1, obj2))\n",
        "print(\"Cosine Similarity:\", cosine_sim)\n"
      ],
      "metadata": {
        "colab": {
          "base_uri": "https://localhost:8080/"
        },
        "id": "Hi3wRi7yWDhU",
        "outputId": "bc418b44-ce03-44dc-ae64-414430e2798f"
      },
      "execution_count": 35,
      "outputs": [
        {
          "output_type": "stream",
          "name": "stdout",
          "text": [
            "Simple Matching: 0.9403669724770642\n",
            "Jaccard Similarity: 0.5263157894736842\n",
            "Cosine Similarity: 0.9958665768029795\n"
          ]
        }
      ]
    }
  ]
}